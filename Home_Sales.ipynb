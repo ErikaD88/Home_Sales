{
  "cells": [
    {
      "cell_type": "code",
      "source": [
        "import os\n",
        "\n",
        "# Set Spark version\n",
        "spark_version = 'spark-3.5.0'\n",
        "os.environ['SPARK_VERSION'] = spark_version\n",
        "\n",
        "# Install Java\n",
        "!apt-get install openjdk-11-jdk-headless -qq > /dev/null\n",
        "\n",
        "# Download and extract Spark\n",
        "!wget -q https://archive.apache.org/dist/spark/spark-3.5.0/spark-3.5.0-bin-hadoop3.tgz\n",
        "!tar -xzf spark-3.5.0-bin-hadoop3.tgz\n",
        "\n",
        "# Install findspark\n",
        "!pip install -q findspark\n",
        "\n",
        "# Set environment variables\n",
        "os.environ[\"JAVA_HOME\"] = \"/usr/lib/jvm/java-11-openjdk-amd64\"\n",
        "os.environ[\"SPARK_HOME\"] = \"/content/spark-3.5.0-bin-hadoop3\"\n",
        "\n",
        "# Initialize findspark\n",
        "import findspark\n",
        "findspark.init()"
      ],
      "metadata": {
        "id": "ufeb-gpgvczc"
      },
      "execution_count": 6,
      "outputs": []
    },
    {
      "cell_type": "code",
      "execution_count": 7,
      "metadata": {
        "id": "2XbWNf1Te5fM"
      },
      "outputs": [],
      "source": [
        "# Import packages\n",
        "from pyspark.sql import SparkSession\n",
        "import time\n",
        "\n",
        "# Create a SparkSession\n",
        "spark = SparkSession.builder.appName(\"SparkSQL\").getOrCreate()"
      ]
    },
    {
      "cell_type": "code",
      "execution_count": 10,
      "metadata": {
        "id": "wOJqxG_RPSwp",
        "colab": {
          "base_uri": "https://localhost:8080/"
        },
        "outputId": "420cca3c-ae37-4ce6-cd50-b44b3dee4822"
      },
      "outputs": [
        {
          "output_type": "stream",
          "name": "stdout",
          "text": [
            "+------------------------------------+----------+----------+------+--------+---------+-----------+--------+------+----------+----+\n",
            "|id                                  |date      |date_built|price |bedrooms|bathrooms|sqft_living|sqft_lot|floors|waterfront|view|\n",
            "+------------------------------------+----------+----------+------+--------+---------+-----------+--------+------+----------+----+\n",
            "|f8a53099-ba1c-47d6-9c31-7398aa8f6089|2022-04-08|2016      |936923|4       |3        |3167       |11733   |2     |1         |76  |\n",
            "|7530a2d8-1ae3-4517-9f4a-befe060c4353|2021-06-13|2013      |379628|2       |2        |2235       |14384   |1     |0         |23  |\n",
            "|43de979c-0bf0-4c9f-85ef-96dc27b258d5|2019-04-12|2014      |417866|2       |2        |2127       |10575   |2     |0         |0   |\n",
            "|b672c137-b88c-48bf-9f18-d0a4ac62fb8b|2019-10-16|2016      |239895|2       |2        |1631       |11149   |2     |0         |0   |\n",
            "|e0726d4d-d595-4074-8283-4139a54d0d63|2022-01-08|2017      |424418|3       |2        |2249       |13878   |2     |0         |4   |\n",
            "|5aa00529-0533-46ba-870c-9e881580ef35|2019-01-30|2017      |218712|2       |3        |1965       |14375   |2     |0         |7   |\n",
            "|131492a1-72e2-4a84-bf97-0db14973bfdb|2020-02-08|2017      |419199|2       |3        |2062       |8876    |2     |0         |6   |\n",
            "|8d54a71b-c520-44e5-8ba1-5a84be03ad35|2019-07-21|2010      |323956|2       |3        |1506       |11816   |1     |0         |25  |\n",
            "|e81aacfe-17fe-46b1-a52a-4753d1622b4a|2020-06-16|2016      |181925|3       |3        |2137       |11709   |2     |0         |22  |\n",
            "|2ed8d509-7372-46d5-a9dd-9281a95467d4|2021-08-06|2015      |258710|3       |3        |1918       |9666    |1     |0         |25  |\n",
            "|f876d86f-3c9f-42b6-928f-bcb685c070ed|2019-02-27|2011      |167864|3       |3        |2471       |13924   |2     |0         |15  |\n",
            "|0a2bd445-8508-4d83-b6be-f043bf3f3b24|2021-12-30|2014      |337527|2       |3        |1926       |12556   |1     |0         |23  |\n",
            "|941bad30-eb49-4a78-b83a-87abb87a62db|2020-05-09|2015      |229896|3       |3        |2197       |8641    |1     |0         |3   |\n",
            "|dd61eb34-6589-4c04-92ba-fc3c44f1b670|2021-07-25|2016      |210247|3       |2        |1672       |11986   |2     |0         |28  |\n",
            "|f1e4cef7-d151-4391-8d00-d92ed2b7ab1b|2019-02-01|2011      |398667|2       |3        |2331       |11356   |1     |0         |7   |\n",
            "|ea620c7b-c2f7-4c6f-9d16-3ccb34320ca4|2021-05-31|2011      |437958|3       |3        |2356       |11052   |1     |0         |26  |\n",
            "|f233cb41-6f33-4b0c-b9ed-1b8aa87163e5|2021-07-18|2016      |437375|4       |3        |1704       |11721   |2     |0         |34  |\n",
            "|c797ca12-52cd-4b13-9338-183653619b11|2019-06-08|2015      |288650|2       |3        |2100       |10419   |2     |0         |7   |\n",
            "|0cfe57f3-28c2-472c-9bc3-aaeac6807e62|2019-10-04|2015      |308313|3       |3        |1960       |9453    |2     |0         |2   |\n",
            "|4566cd2a-ac6e-4358-b1ad-56921991ff60|2019-07-15|2016      |177541|3       |3        |2130       |10517   |2     |0         |25  |\n",
            "+------------------------------------+----------+----------+------+--------+---------+-----------+--------+------+----------+----+\n",
            "only showing top 20 rows\n",
            "\n"
          ]
        }
      ],
      "source": [
        "# 1. Read in the AWS S3 bucket into a DataFrame.\n",
        "from pyspark import SparkFiles\n",
        "url = \"https://2u-data-curriculum-team.s3.amazonaws.com/dataviz-classroom/v1.2/22-big-data/home_sales_revised.csv\"\n",
        "spark.sparkContext.addFile(url)\n",
        "home_sales_df = spark.read.csv(SparkFiles.get(\"home_sales_revised.csv\"), sep=\",\", header=True)\n",
        "home_sales_df.show(truncate=False)"
      ]
    },
    {
      "cell_type": "code",
      "execution_count": 11,
      "metadata": {
        "id": "RoljcJ7WPpnm"
      },
      "outputs": [],
      "source": [
        "# 2. Create a temporary view of the DataFrame.\n",
        "# use .createOrReplaceTempView(\"home_sales\")\n",
        "home_sales_df.createOrReplaceTempView(\"home_sales\")"
      ]
    },
    {
      "cell_type": "code",
      "execution_count": 13,
      "metadata": {
        "id": "L6fkwOeOmqvq",
        "colab": {
          "base_uri": "https://localhost:8080/"
        },
        "outputId": "877a64eb-4964-41cb-d739-96692e57308b"
      },
      "outputs": [
        {
          "output_type": "stream",
          "name": "stdout",
          "text": [
            "+----+---------+\n",
            "|YEAR|AVG_PRICE|\n",
            "+----+---------+\n",
            "|2019| 300263.7|\n",
            "|2020|298353.78|\n",
            "|2021|301819.44|\n",
            "|2022|296363.88|\n",
            "+----+---------+\n",
            "\n"
          ]
        }
      ],
      "source": [
        "# 3. What is the average price for a four bedroom house sold per year, rounded to two decimal places?\n",
        "sql = \"\"\"\n",
        "SELECT YEAR(date) AS YEAR, ROUND(AVG(price), 2) AS AVG_PRICE\n",
        "FROM home_sales\n",
        "WHERE bedrooms = 4\n",
        "GROUP BY YEAR\n",
        "ORDER BY YEAR\n",
        "\"\"\"\n",
        "spark.sql(sql).show()"
      ]
    },
    {
      "cell_type": "code",
      "execution_count": 15,
      "metadata": {
        "id": "l8p_tUS8h8it",
        "colab": {
          "base_uri": "https://localhost:8080/"
        },
        "outputId": "f370462e-d574-469f-e432-490f1319b2d2"
      },
      "outputs": [
        {
          "output_type": "stream",
          "name": "stdout",
          "text": [
            "+----+---------+\n",
            "|YEAR|AVG_PRICE|\n",
            "+----+---------+\n",
            "|2010|292859.62|\n",
            "|2011|291117.47|\n",
            "|2012|293683.19|\n",
            "|2013|295962.27|\n",
            "|2014|290852.27|\n",
            "|2015| 288770.3|\n",
            "|2016|290555.07|\n",
            "|2017|292676.79|\n",
            "+----+---------+\n",
            "\n"
          ]
        }
      ],
      "source": [
        "# 4. What is the average price of a home for each year the home was built,\n",
        "# that have 3 bedrooms and 3 bathrooms, rounded to two decimal places?\n",
        "sql = \"\"\"\n",
        "SELECT YEAR(date_built) AS YEAR, ROUND(AVG(price), 2) AS AVG_PRICE\n",
        "FROM home_sales\n",
        "WHERE bedrooms = 3 AND bathrooms = 3\n",
        "GROUP BY YEAR\n",
        "ORDER BY YEAR\n",
        "\"\"\"\n",
        "spark.sql(sql).show()"
      ]
    },
    {
      "cell_type": "code",
      "execution_count": 16,
      "metadata": {
        "id": "Y-Eytz64liDU",
        "colab": {
          "base_uri": "https://localhost:8080/"
        },
        "outputId": "c8c99a65-d768-4503-fe15-b5475de8e8c9"
      },
      "outputs": [
        {
          "output_type": "stream",
          "name": "stdout",
          "text": [
            "+----+---------+\n",
            "|YEAR|AVG_PRICE|\n",
            "+----+---------+\n",
            "|2010|285010.22|\n",
            "|2011|276553.81|\n",
            "|2012|307539.97|\n",
            "|2013|303676.79|\n",
            "|2014|298264.72|\n",
            "|2015|297609.97|\n",
            "|2016| 293965.1|\n",
            "|2017|280317.58|\n",
            "+----+---------+\n",
            "\n"
          ]
        }
      ],
      "source": [
        "# 5. What is the average price of a home for each year the home was built,\n",
        "# that have 3 bedrooms, 3 bathrooms, with two floors,\n",
        "# and are greater than or equal to 2,000 square feet, rounded to two decimal places?\n",
        "sql = \"\"\"\n",
        "SELECT YEAR(date_built) AS YEAR, ROUND(AVG(price), 2) AS AVG_PRICE\n",
        "FROM home_sales\n",
        "WHERE bedrooms = 3 AND bathrooms = 3 AND floors = 2 AND sqft_living >= 2000\n",
        "GROUP BY YEAR\n",
        "ORDER BY YEAR\n",
        "\"\"\"\n",
        "spark.sql(sql).show()"
      ]
    },
    {
      "cell_type": "code",
      "execution_count": 18,
      "metadata": {
        "colab": {
          "base_uri": "https://localhost:8080/"
        },
        "id": "GUrfgOX1pCRd",
        "outputId": "b9d1b58e-7b28-4eb5-f3a1-52f482e926ff"
      },
      "outputs": [
        {
          "output_type": "stream",
          "name": "stdout",
          "text": [
            "+----+---------+\n",
            "|view|AVG_PRICE|\n",
            "+----+---------+\n",
            "| 100|1026669.5|\n",
            "|  51|788128.21|\n",
            "|  52|733780.26|\n",
            "|  53| 755214.8|\n",
            "|  54|798684.82|\n",
            "|  55|771153.32|\n",
            "|  56| 718176.4|\n",
            "|  57| 734340.5|\n",
            "|  58|759764.65|\n",
            "|  59| 791453.0|\n",
            "|  60|754939.65|\n",
            "|  61|746877.59|\n",
            "|  62|759150.14|\n",
            "|  63|711614.55|\n",
            "|  64|767036.67|\n",
            "|  65|736679.93|\n",
            "|  66| 712475.0|\n",
            "|  67|737970.96|\n",
            "|  68|716785.44|\n",
            "|  69|750537.94|\n",
            "+----+---------+\n",
            "only showing top 20 rows\n",
            "\n",
            "--- 0.8754439353942871 seconds ---\n"
          ]
        }
      ],
      "source": [
        "# 6. What is the average price of a home per \"view\" rating, rounded to two decimal places,\n",
        "# having an average home price greater than or equal to $350,000? Order by descending view rating.\n",
        "# Although this is a small dataset, determine the run time for this query.\n",
        "start_time = time.time()\n",
        "\n",
        "sql = \"\"\"\n",
        "SELECT view, ROUND(AVG(price), 2) AS AVG_PRICE\n",
        "FROM home_sales\n",
        "GROUP BY view\n",
        "HAVING AVG(price) >= 350000\n",
        "ORDER BY view\n",
        "\"\"\"\n",
        "spark.sql(sql).show()\n",
        "\n",
        "\n",
        "print(\"--- %s seconds ---\" % (time.time() - start_time))"
      ]
    },
    {
      "cell_type": "code",
      "execution_count": 19,
      "metadata": {
        "id": "KAhk3ZD2tFy8",
        "colab": {
          "base_uri": "https://localhost:8080/"
        },
        "outputId": "14cf5d79-c733-4c3c-c23e-ebe3265af823"
      },
      "outputs": [
        {
          "output_type": "execute_result",
          "data": {
            "text/plain": [
              "DataFrame[]"
            ]
          },
          "metadata": {},
          "execution_count": 19
        }
      ],
      "source": [
        "# 7. Cache the the temporary table home_sales. - 'cache table home_sales'\n",
        "spark.sql(\"cache table home_sales\")"
      ]
    },
    {
      "cell_type": "code",
      "execution_count": 20,
      "metadata": {
        "id": "4opVhbvxtL-i",
        "colab": {
          "base_uri": "https://localhost:8080/"
        },
        "outputId": "a1acd6fc-669c-4f9d-abf6-62fbede0cd0a"
      },
      "outputs": [
        {
          "output_type": "execute_result",
          "data": {
            "text/plain": [
              "True"
            ]
          },
          "metadata": {},
          "execution_count": 20
        }
      ],
      "source": [
        "# 8. Check if the table is cached.\n",
        "spark.catalog.isCached('home_sales')"
      ]
    },
    {
      "cell_type": "code",
      "execution_count": 21,
      "metadata": {
        "colab": {
          "base_uri": "https://localhost:8080/"
        },
        "id": "5GnL46lwTSEk",
        "outputId": "dac932d0-411d-48d0-edc3-a397aa78006f"
      },
      "outputs": [
        {
          "output_type": "stream",
          "name": "stdout",
          "text": [
            "+----+---------+\n",
            "|view|AVG_PRICE|\n",
            "+----+---------+\n",
            "| 100|1026669.5|\n",
            "|  51|788128.21|\n",
            "|  52|733780.26|\n",
            "|  53| 755214.8|\n",
            "|  54|798684.82|\n",
            "|  55|771153.32|\n",
            "|  56| 718176.4|\n",
            "|  57| 734340.5|\n",
            "|  58|759764.65|\n",
            "|  59| 791453.0|\n",
            "|  60|754939.65|\n",
            "|  61|746877.59|\n",
            "|  62|759150.14|\n",
            "|  63|711614.55|\n",
            "|  64|767036.67|\n",
            "|  65|736679.93|\n",
            "|  66| 712475.0|\n",
            "|  67|737970.96|\n",
            "|  68|716785.44|\n",
            "|  69|750537.94|\n",
            "+----+---------+\n",
            "only showing top 20 rows\n",
            "\n",
            "--- 0.7425563335418701 seconds ---\n"
          ]
        }
      ],
      "source": [
        "# 9. Using the cached data, run the last query above, that calculates\n",
        "# the average price of a home per \"view\" rating, rounded to two decimal places,\n",
        "# having an average home price greater than or equal to $350,000.\n",
        "# Determine the runtime and compare it to the uncached runtime.\n",
        "\n",
        "start_time = time.time()\n",
        "\n",
        "\n",
        "sql = \"\"\"\n",
        "SELECT view, ROUND(AVG(price), 2) AS AVG_PRICE\n",
        "FROM home_sales\n",
        "GROUP BY view\n",
        "HAVING AVG(price) >= 350000\n",
        "ORDER BY view\n",
        "\"\"\"\n",
        "spark.sql(sql).show()\n",
        "\n",
        "print(\"--- %s seconds ---\" % (time.time() - start_time))\n"
      ]
    },
    {
      "cell_type": "code",
      "execution_count": 22,
      "metadata": {
        "id": "Qm12WN9isHBR"
      },
      "outputs": [],
      "source": [
        "# 10. Partition by the \"date_built\" field on the formatted parquet home sales data - 'p_home_sales'\n",
        "home_sales_df.write.partitionBy(\"date_built\").mode(\"overwrite\").parquet(\"p_home_sales\")"
      ]
    },
    {
      "cell_type": "code",
      "execution_count": 23,
      "metadata": {
        "id": "AZ7BgY61sRqY"
      },
      "outputs": [],
      "source": [
        "# 11. Read the parquet formatted data. - spark.read.parquet('p_home_sales')\n",
        "p_home_sales_df = spark.read.parquet('p_home_sales')"
      ]
    },
    {
      "cell_type": "code",
      "execution_count": 24,
      "metadata": {
        "id": "J6MJkHfvVcvh"
      },
      "outputs": [],
      "source": [
        "# 12. Create a temporary table for the parquet data.\n",
        "p_home_sales_df.createOrReplaceTempView(\"p_home_sales\")"
      ]
    },
    {
      "cell_type": "code",
      "execution_count": 27,
      "metadata": {
        "colab": {
          "base_uri": "https://localhost:8080/"
        },
        "id": "G_Vhb52rU1Sn",
        "outputId": "a4a4ae16-00ab-400f-a574-70cddd382928"
      },
      "outputs": [
        {
          "output_type": "stream",
          "name": "stdout",
          "text": [
            "+----+---------+\n",
            "|view|AVG_PRICE|\n",
            "+----+---------+\n",
            "| 100|1026669.5|\n",
            "|  51|788128.21|\n",
            "|  52|733780.26|\n",
            "|  53| 755214.8|\n",
            "|  54|798684.82|\n",
            "|  55|771153.32|\n",
            "|  56| 718176.4|\n",
            "|  57| 734340.5|\n",
            "|  58|759764.65|\n",
            "|  59| 791453.0|\n",
            "|  60|754939.65|\n",
            "|  61|746877.59|\n",
            "|  62|759150.14|\n",
            "|  63|711614.55|\n",
            "|  64|767036.67|\n",
            "|  65|736679.93|\n",
            "|  66| 712475.0|\n",
            "|  67|737970.96|\n",
            "|  68|716785.44|\n",
            "|  69|750537.94|\n",
            "+----+---------+\n",
            "only showing top 20 rows\n",
            "\n",
            "--- 1.0113961696624756 seconds ---\n"
          ]
        }
      ],
      "source": [
        "# 13. Using the parquet DataFrame, run the last query above, that calculates\n",
        "# the average price of a home per \"view\" rating, rounded to two decimal places,\n",
        "# having an average home price greater than or equal to $350,000.\n",
        "# Determine the runtime and compare it to the cached runtime.\n",
        "\n",
        "start_time = time.time()\n",
        "\n",
        "sql = \"\"\"\n",
        "SELECT view, ROUND(AVG(price), 2) AS AVG_PRICE\n",
        "FROM p_home_sales\n",
        "GROUP BY view\n",
        "HAVING AVG(price) >= 350000\n",
        "ORDER BY view\n",
        "\"\"\"\n",
        "spark.sql(sql).show()\n",
        "\n",
        "print(\"--- %s seconds ---\" % (time.time() - start_time))"
      ]
    },
    {
      "cell_type": "code",
      "execution_count": 28,
      "metadata": {
        "id": "hjjYzQGjtbq8",
        "colab": {
          "base_uri": "https://localhost:8080/"
        },
        "outputId": "1abf20ad-299d-45ef-a9a0-642e1fbf5112"
      },
      "outputs": [
        {
          "output_type": "execute_result",
          "data": {
            "text/plain": [
              "DataFrame[]"
            ]
          },
          "metadata": {},
          "execution_count": 28
        }
      ],
      "source": [
        "# 14. Uncache the home_sales temporary table.\n",
        "spark.sql(\"uncache table home_sales\")"
      ]
    },
    {
      "cell_type": "code",
      "execution_count": 29,
      "metadata": {
        "id": "Sy9NBvO7tlmm",
        "colab": {
          "base_uri": "https://localhost:8080/"
        },
        "outputId": "949ff8bc-1682-4800-f9f6-1d9bc45c6acc"
      },
      "outputs": [
        {
          "output_type": "execute_result",
          "data": {
            "text/plain": [
              "False"
            ]
          },
          "metadata": {},
          "execution_count": 29
        }
      ],
      "source": [
        "# 15. Check if the home_sales is no longer cached\n",
        "spark.catalog.isCached(\"home_sales\")"
      ]
    },
    {
      "cell_type": "code",
      "execution_count": null,
      "metadata": {
        "id": "Si-BNruRUGK3"
      },
      "outputs": [],
      "source": []
    }
  ],
  "metadata": {
    "colab": {
      "provenance": []
    },
    "gpuClass": "standard",
    "kernelspec": {
      "display_name": "Python 3 (ipykernel)",
      "language": "python",
      "name": "python3"
    },
    "language_info": {
      "codemirror_mode": {
        "name": "ipython",
        "version": 3
      },
      "file_extension": ".py",
      "mimetype": "text/x-python",
      "name": "python",
      "nbconvert_exporter": "python",
      "pygments_lexer": "ipython3",
      "version": "3.10.4"
    },
    "nteract": {
      "version": "0.28.0"
    }
  },
  "nbformat": 4,
  "nbformat_minor": 0
}